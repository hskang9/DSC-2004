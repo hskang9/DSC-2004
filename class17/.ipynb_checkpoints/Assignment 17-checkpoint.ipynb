{
 "cells": [
  {
   "cell_type": "code",
   "execution_count": 332,
   "metadata": {
    "collapsed": false
   },
   "outputs": [],
   "source": [
    "import numpy as np\n",
    "\n",
    "import matplotlib.animation as animation\n",
    "import matplotlib.pyplot as plt\n",
    "from matplotlib import colors\n"
   ]
  },
  {
   "cell_type": "code",
   "execution_count": 333,
   "metadata": {
    "collapsed": false
   },
   "outputs": [],
   "source": [
    "# Lab environment\n",
    "ppl = np.zeros((50,50), dtype=int)\n",
    "ppl[0:49][0] = 2\n",
    "\n",
    "day = 0\n"
   ]
  },
  {
   "cell_type": "code",
   "execution_count": 334,
   "metadata": {
    "collapsed": false
   },
   "outputs": [],
   "source": [
    "def everyone_is_immune():\n",
    "    for index in np.ndindex(ppl.shape):\n",
    "        if ppl[index[0]][index[1]] !=6:\n",
    "            return False\n",
    "    return True\n",
    "\n",
    "def contact():\n",
    "    for index in np.ndindex(ppl.shape):\n",
    "        h_person = ppl[index[0]][index[1]]\n",
    "        '''\n",
    "            ¤ After a person has been contagious for 4 days, then the person is\n",
    "            non-contagious and cannot spread the virus nor can the person\n",
    "            get the virus again due to immunity.\n",
    "        '''\n",
    "        if h_person> 0 and h_person <6:\n",
    "            ppl[index[0]][index[1]] += 1\n",
    "\n",
    "        if h_person >= 6:\n",
    "            pass\n",
    "\n",
    "        if h_person == 0:\n",
    "            '''\n",
    "                ¤ Each day, a healthy person comes in contact with 4 random\n",
    "                people. If any of those random people is contagious, then the\n",
    "                healthy person becomes infected.\n",
    "            '''\n",
    "            for i in range(4):\n",
    "                    x = np.random.randint(50)\n",
    "                    y = np.random.randint(50)\n",
    "                    '''\n",
    "                        ¤ It takes one day for the infected person to become contagious.\n",
    "                    '''\n",
    "                    if ppl[x][y] >= 2 and ppl[x][y]<6 : # if contacted person is contagious\n",
    "                        ppl[index[0]][index[1]] = 1 #infected\n",
    "\n",
    "# Plotting and animating\n",
    "def update_figure(*args):\n",
    "    global day\n",
    "    contact()\n",
    "    if everyone_is_immune():\n",
    "        print(\"The whole population is now Immune. The number of days: {0}\".format(day))\n",
    "        exit()\n",
    "    day += 1\n",
    "    # updating the image\n",
    "    im.set_array(ppl)\n",
    "    return im,"
   ]
  },
  {
   "cell_type": "code",
   "execution_count": 335,
   "metadata": {
    "collapsed": false
   },
   "outputs": [
    {
     "data": {
      "image/png": "[encoded data removed]",
      "text/plain": [
       "<matplotlib.figure.Figure at 0x111373438>"
      ]
     },
     "metadata": {},
     "output_type": "display_data"
    }
   ],
   "source": [
    "custom_cmap = colors.ListedColormap(['w', '#FFF100', '#FF1B1B', '#FA4B4B', '#FC7676', '#FBAEAE', '#00DDFF'])\n",
    "cmap_index = [0, 1, 2, 3, 4, 5, 6]\n",
    "norm = colors.BoundaryNorm(cmap_index, custom_cmap.N)\n",
    "\n",
    "\n",
    "fig = plt.figure()\n",
    "im = plt.imshow(ppl, animated=True, cmap=custom_cmap, norm=norm)\n",
    "plt.colorbar()\n",
    "ani = animation.FuncAnimation(fig, update_figure, interval=1000, blit=True)\n",
    "plt.show()\n"
   ]
  },
  {
   "cell_type": "code",
   "execution_count": null,
   "metadata": {
    "collapsed": true
   },
   "outputs": [],
   "source": []
  },
  {
   "cell_type": "code",
   "execution_count": null,
   "metadata": {
    "collapsed": true
   },
   "outputs": [],
   "source": []
  },
  {
   "cell_type": "code",
   "execution_count": null,
   "metadata": {
    "collapsed": true
   },
   "outputs": [],
   "source": []
  }
 ],
 "metadata": {
  "kernelspec": {
   "display_name": "Python 3",
   "language": "python",
   "name": "python3"
  },
  "language_info": {
   "codemirror_mode": {
    "name": "ipython",
    "version": 3
   },
   "file_extension": ".py",
   "mimetype": "text/x-python",
   "name": "python",
   "nbconvert_exporter": "python",
   "pygments_lexer": "ipython3",
   "version": "3.6.0"
  }
 },
 "nbformat": 4,
 "nbformat_minor": 2
}
