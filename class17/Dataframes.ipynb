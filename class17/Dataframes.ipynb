{
 "cells": [
  {
   "cell_type": "code",
   "execution_count": 1,
   "metadata": {
    "collapsed": false
   },
   "outputs": [
    {
     "name": "stdout",
     "output_type": "stream",
     "text": [
      "      A    B   C   D    E\n",
      "x 0  A0   B0  C0  D0  NaN\n",
      "  1  A1   B1  C1  D1  NaN\n",
      "  2  A2   B2  C2  D2  NaN\n",
      "  3  A3   B3  C3  D3  NaN\n",
      "y 2  A4  NaN  C4  D4   E0\n",
      "  3  A5  NaN  C5  D5   E1\n",
      "  4  A6  NaN  C6  D6   E2\n",
      "  5  A7  NaN  C7  D7   E3\n",
      "    A    B   C   D   E\n",
      "2  A4  NaN  C4  D4  E0\n",
      "3  A5  NaN  C5  D5  E1\n",
      "4  A6  NaN  C6  D6  E2\n",
      "5  A7  NaN  C7  D7  E3\n",
      "\n",
      " result1\n",
      "     A    B    C    D    A    C    D    E\n",
      "0   A0   B0   C0   D0  NaN  NaN  NaN  NaN\n",
      "1   A1   B1   C1   D1  NaN  NaN  NaN  NaN\n",
      "2   A2   B2   C2   D2   A4   C4   D4   E0\n",
      "3   A3   B3   C3   D3   A5   C5   D5   E1\n",
      "4  NaN  NaN  NaN  NaN   A6   C6   D6   E2\n",
      "5  NaN  NaN  NaN  NaN   A7   C7   D7   E3\n",
      "\n",
      " result2\n",
      "    A   B   C   D   A   C   D   E\n",
      "2  A2  B2  C2  D2  A4  C4  D4  E0\n",
      "3  A3  B3  C3  D3  A5  C5  D5  E1\n",
      "\n",
      " result3\n",
      "    A   B   C   D    A    C    D    E\n",
      "0  A0  B0  C0  D0  NaN  NaN  NaN  NaN\n",
      "1  A1  B1  C1  D1  NaN  NaN  NaN  NaN\n",
      "2  A2  B2  C2  D2   A4   C4   D4   E0\n",
      "3  A3  B3  C3  D3   A5   C5   D5   E1\n",
      "\n",
      " result4\n",
      "    A    B   C   D    E\n",
      "0  A0   B0  C0  D0  NaN\n",
      "1  A1   B1  C1  D1  NaN\n",
      "2  A2   B2  C2  D2  NaN\n",
      "3  A3   B3  C3  D3  NaN\n",
      "2  A4  NaN  C4  D4   E0\n",
      "3  A5  NaN  C5  D5   E1\n",
      "4  A6  NaN  C6  D6   E2\n",
      "5  A7  NaN  C7  D7   E3\n",
      "\n",
      " result5\n",
      "     A    B    C    D    E    F    G    H    I\n",
      "0   A0   B0   C0   D0  NaN  NaN  NaN  NaN  NaN\n",
      "1   A1   B1   C1   D1  NaN  NaN  NaN  NaN  NaN\n",
      "2   A2   B2   C2   D2  NaN  NaN  NaN  NaN  NaN\n",
      "3   A3   B3   C3   D3  NaN  NaN  NaN  NaN  NaN\n",
      "2   A4  NaN   C4   D4   E0  NaN  NaN  NaN  NaN\n",
      "3   A5  NaN   C5   D5   E1  NaN  NaN  NaN  NaN\n",
      "4   A6  NaN   C6   D6   E2  NaN  NaN  NaN  NaN\n",
      "5   A7  NaN   C7   D7   E3  NaN  NaN  NaN  NaN\n",
      "6  NaN  NaN  NaN  NaN  NaN   F0   G0   H0   I0\n",
      "7  NaN  NaN  NaN  NaN  NaN   F1   G1   H1   I1\n",
      "8  NaN  NaN  NaN  NaN  NaN   F2   G2   H2   I2\n",
      "9  NaN  NaN  NaN  NaN  NaN   F3   G3   H3   I3\n",
      "\n",
      " left\n",
      "    A   B key1 key2\n",
      "0  A0  B0   K0   K0\n",
      "1  A1  B1   K0   K1\n",
      "2  A2  B2   K1   K0\n",
      "3  A3  B3   K2   K1\n",
      "\n",
      " right\n",
      "    C   D key1 key2\n",
      "0  C0  D0   K0   K0\n",
      "1  C1  D1   K1   K0\n",
      "2  C2  D2   K1   K0\n",
      "3  C3  D3   K2   K1\n",
      "\n",
      " result default(inner)\n",
      "    A   B key1 key2   C   D\n",
      "0  A0  B0   K0   K0  C0  D0\n",
      "1  A2  B2   K1   K0  C1  D1\n",
      "2  A2  B2   K1   K0  C2  D2\n",
      "3  A3  B3   K2   K1  C3  D3\n",
      "\n",
      " result left\n",
      "    A   B key1 key2    C    D\n",
      "0  A0  B0   K0   K0   C0   D0\n",
      "1  A1  B1   K0   K1  NaN  NaN\n",
      "2  A2  B2   K1   K0   C1   D1\n",
      "3  A2  B2   K1   K0   C2   D2\n",
      "4  A3  B3   K2   K1   C3   D3\n",
      "\n",
      " result right\n",
      "    A   B key1 key2   C   D\n",
      "0  A0  B0   K0   K0  C0  D0\n",
      "1  A2  B2   K1   K0  C1  D1\n",
      "2  A2  B2   K1   K0  C2  D2\n",
      "3  A3  B3   K2   K1  C3  D3\n",
      "\n",
      " result outer\n",
      "    A   B key1 key2    C    D\n",
      "0  A0  B0   K0   K0   C0   D0\n",
      "1  A1  B1   K0   K1  NaN  NaN\n",
      "2  A2  B2   K1   K0   C1   D1\n",
      "3  A2  B2   K1   K0   C2   D2\n",
      "4  A3  B3   K2   K1   C3   D3\n"
     ]
    }
   ],
   "source": [
    "import pandas as pd\n",
    "from pandas import DataFrame\n",
    "\n",
    "\n",
    "\n",
    "\n",
    "#concatenating using append\n",
    "result4 = df1.append(df2) #rbind(axis=1)\n",
    "print('\\n result4')\n",
    "print(result4)\n",
    "\n",
    "result5 = df1.append([df2,df3])\n",
    "print('\\n result5')\n",
    "print(result5)\n",
    "\n",
    "#merge() for join operation\n",
    "left = DataFrame({'key1':['K0','K0','K1','K2'],\n",
    "                  'key2':['K0','K1','K0','K1'],\n",
    "                  'A':['A0','A1','A2','A3'],\n",
    "                  'B':['B0','B1','B2','B3']})\n",
    "print(\"\\n left\")\n",
    "print(left)\n",
    "right = DataFrame({'key1':['K0','K1','K1','K2'],\n",
    "                   'key2':['K0','K0','K0','K1'],\n",
    "                   'C':['C0','C1','C2','C3'],\n",
    "                   'D':['D0','D1','D2','D3']})\n",
    "print('\\n right')\n",
    "print(right)\n",
    "\n",
    "print('\\n result default(inner)')\n",
    "result = pd.merge(left, right, on=['key1','key2'])\n",
    "print(result)\n",
    "print('\\n result left')\n",
    "result1 = pd.merge(left, right, how='left', on=['key1','key2'])\n",
    "print(result1)\n",
    "print('\\n result right')\n",
    "result2 = pd.merge(left, right, how='right', on=['key1','key2'])\n",
    "print(result2)\n",
    "print('\\n result outer')\n",
    "result3 = pd.merge(left, right, how='outer', on=['key1','key2'])\n",
    "print(result3)"
   ]
  },
  {
   "cell_type": "markdown",
   "metadata": {},
   "source": [
    "# Create multiple dataframes"
   ]
  },
  {
   "cell_type": "code",
   "execution_count": 2,
   "metadata": {
    "collapsed": true
   },
   "outputs": [],
   "source": [
    "df1 = DataFrame({'A':['A0','A1','A2','A3'],\n",
    "                 'B':['B0','B1','B2','B3'],\n",
    "                 'C':['C0','C1','C2','C3'],\n",
    "                 'D':['D0','D1','D2','D3']},\n",
    "                 index=[0,1,2,3])\n",
    "df2 = DataFrame({'A':['A4','A5','A6','A7'],\n",
    "                 'C':['C4','C5','C6','C7'],\n",
    "                 'D':['D4','D5','D6','D7'],\n",
    "                 'E':['E0','E1','E2','E3']},\n",
    "                 index=[2,3,4,5])\n",
    "df3 = DataFrame({'F':['F0','F1','F2','F3'],\n",
    "                 'G':['G0','G1','G2','G3'],\n",
    "                 'H':['H0','H1','H2','H3'],\n",
    "                 'I':['I0','I1','I2','I3']},\n",
    "                 index=[6,7,8,9])\n",
    "\n"
   ]
  },
  {
   "cell_type": "markdown",
   "metadata": {},
   "source": [
    "# Concatenate"
   ]
  },
  {
   "cell_type": "code",
   "execution_count": 3,
   "metadata": {
    "collapsed": false
   },
   "outputs": [
    {
     "name": "stdout",
     "output_type": "stream",
     "text": [
      "      A    B   C   D    E\n",
      "x 0  A0   B0  C0  D0  NaN\n",
      "  1  A1   B1  C1  D1  NaN\n",
      "  2  A2   B2  C2  D2  NaN\n",
      "  3  A3   B3  C3  D3  NaN\n",
      "y 2  A4  NaN  C4  D4   E0\n",
      "  3  A5  NaN  C5  D5   E1\n",
      "  4  A6  NaN  C6  D6   E2\n",
      "  5  A7  NaN  C7  D7   E3\n",
      "    A    B   C   D   E\n",
      "2  A4  NaN  C4  D4  E0\n",
      "3  A5  NaN  C5  D5  E1\n",
      "4  A6  NaN  C6  D6  E2\n",
      "5  A7  NaN  C7  D7  E3\n",
      "\n",
      " result1\n",
      "     A    B    C    D    A    C    D    E\n",
      "0   A0   B0   C0   D0  NaN  NaN  NaN  NaN\n",
      "1   A1   B1   C1   D1  NaN  NaN  NaN  NaN\n",
      "2   A2   B2   C2   D2   A4   C4   D4   E0\n",
      "3   A3   B3   C3   D3   A5   C5   D5   E1\n",
      "4  NaN  NaN  NaN  NaN   A6   C6   D6   E2\n",
      "5  NaN  NaN  NaN  NaN   A7   C7   D7   E3\n",
      "\n",
      " result2\n",
      "    A   B   C   D   A   C   D   E\n",
      "2  A2  B2  C2  D2  A4  C4  D4  E0\n",
      "3  A3  B3  C3  D3  A5  C5  D5  E1\n",
      "\n",
      " result3\n",
      "    A   B   C   D    A    C    D    E\n",
      "0  A0  B0  C0  D0  NaN  NaN  NaN  NaN\n",
      "1  A1  B1  C1  D1  NaN  NaN  NaN  NaN\n",
      "2  A2  B2  C2  D2   A4   C4   D4   E0\n",
      "3  A3  B3  C3  D3   A5   C5   D5   E1\n"
     ]
    }
   ],
   "source": [
    "\n",
    "frames = [df1, df2]\n",
    "\n",
    "result = pd.concat(frames, keys=['x','y'])\n",
    "print(result)\n",
    "\n",
    "print(result.ix['y'])\n",
    "\n",
    "result1 = pd.concat([df1,df2], axis=1) # axis =0 ì´ ê¸°ë³¸ê°’,0ì€ cbind,1ì€ rbind\n",
    "print('\\n result1')\n",
    "print(result1)\n",
    "\n",
    "\n",
    "result2 = pd.concat([df1,df2], axis=1, join='inner')\n",
    "print(\"\\n result2\")\n",
    "print(result2)\n",
    "\n",
    "result3 = pd.concat([df1,df2], axis=1, join_axes=[df1.index])\n",
    "print('\\n result3')\n",
    "print(result3)"
   ]
  },
  {
   "cell_type": "markdown",
   "metadata": {},
   "source": [
    "# Append dataframe"
   ]
  },
  {
   "cell_type": "code",
   "execution_count": 4,
   "metadata": {
    "collapsed": false
   },
   "outputs": [
    {
     "name": "stdout",
     "output_type": "stream",
     "text": [
      "\n",
      " result4\n",
      "    A    B   C   D    E\n",
      "0  A0   B0  C0  D0  NaN\n",
      "1  A1   B1  C1  D1  NaN\n",
      "2  A2   B2  C2  D2  NaN\n",
      "3  A3   B3  C3  D3  NaN\n",
      "2  A4  NaN  C4  D4   E0\n",
      "3  A5  NaN  C5  D5   E1\n",
      "4  A6  NaN  C6  D6   E2\n",
      "5  A7  NaN  C7  D7   E3\n",
      "\n",
      " result5\n",
      "     A    B    C    D    E    F    G    H    I\n",
      "0   A0   B0   C0   D0  NaN  NaN  NaN  NaN  NaN\n",
      "1   A1   B1   C1   D1  NaN  NaN  NaN  NaN  NaN\n",
      "2   A2   B2   C2   D2  NaN  NaN  NaN  NaN  NaN\n",
      "3   A3   B3   C3   D3  NaN  NaN  NaN  NaN  NaN\n",
      "2   A4  NaN   C4   D4   E0  NaN  NaN  NaN  NaN\n",
      "3   A5  NaN   C5   D5   E1  NaN  NaN  NaN  NaN\n",
      "4   A6  NaN   C6   D6   E2  NaN  NaN  NaN  NaN\n",
      "5   A7  NaN   C7   D7   E3  NaN  NaN  NaN  NaN\n",
      "6  NaN  NaN  NaN  NaN  NaN   F0   G0   H0   I0\n",
      "7  NaN  NaN  NaN  NaN  NaN   F1   G1   H1   I1\n",
      "8  NaN  NaN  NaN  NaN  NaN   F2   G2   H2   I2\n",
      "9  NaN  NaN  NaN  NaN  NaN   F3   G3   H3   I3\n"
     ]
    }
   ],
   "source": [
    "result4 = df1.append(df2) #rbind(axis=1)\n",
    "print('\\n result4')\n",
    "print(result4)\n",
    "\n",
    "result5 = df1.append([df2,df3])\n",
    "print('\\n result5')\n",
    "print(result5)"
   ]
  },
  {
   "cell_type": "markdown",
   "metadata": {},
   "source": [
    "# Join dataframes with merge() function"
   ]
  },
  {
   "cell_type": "code",
   "execution_count": 6,
   "metadata": {
    "collapsed": false
   },
   "outputs": [
    {
     "name": "stdout",
     "output_type": "stream",
     "text": [
      "    A   B key1 key2    C    D\n",
      "0  A0  B0   K0   K0   C0   D0\n",
      "1  A1  B1   K0   K1  NaN  NaN\n",
      "2  A2  B2   K1   K0   C1   D1\n",
      "3  A2  B2   K1   K0   C2   D2\n",
      "4  A3  B3   K2   K1   C3   D3\n"
     ]
    }
   ],
   "source": [
    "df1 = DataFrame({'key1':['K0','K0','K1','K2'],\n",
    "                  'key2':['K0','K1','K0','K1'],\n",
    "                  'A':['A0','A1','A2','A3'],\n",
    "                  'B':['B0','B1','B2','B3']})\n",
    "\n",
    "df2 = DataFrame({'key1':['K0','K1','K1','K2'],\n",
    "                   'key2':['K0','K0','K0','K1'],\n",
    "                   'C':['C0','C1','C2','C3'],\n",
    "                   'D':['D0','D1','D2','D3']})\n",
    "\n",
    "# Right join\n",
    "result2 = pd.merge(df1, df2, how='right', on=['key1','key2'])\n",
    "\n",
    "# Outer join\n",
    "result3 = pd.merge(df1, df2, how='outer', on=['key1','key2'])\n"
   ]
  },
  {
   "cell_type": "markdown",
   "metadata": {},
   "source": [
    "# inner join as default"
   ]
  },
  {
   "cell_type": "code",
   "execution_count": 7,
   "metadata": {
    "collapsed": false
   },
   "outputs": [],
   "source": [
    "result = pd.merge(df1, df2, on=['key1','key2'])"
   ]
  },
  {
   "cell_type": "markdown",
   "metadata": {},
   "source": [
    "# Left join"
   ]
  },
  {
   "cell_type": "code",
   "execution_count": 8,
   "metadata": {
    "collapsed": true
   },
   "outputs": [],
   "source": [
    "result1 = pd.merge(df1, df2, how='left', on=['key1','key2'])"
   ]
  },
  {
   "cell_type": "markdown",
   "metadata": {},
   "source": [
    "# Right join"
   ]
  },
  {
   "cell_type": "markdown",
   "metadata": {},
   "source": [
    "# Outer join"
   ]
  },
  {
   "cell_type": "code",
   "execution_count": null,
   "metadata": {
    "collapsed": true
   },
   "outputs": [],
   "source": []
  }
 ],
 "metadata": {
  "kernelspec": {
   "display_name": "Python 3",
   "language": "python",
   "name": "python3"
  },
  "language_info": {
   "codemirror_mode": {
    "name": "ipython",
    "version": 3
   },
   "file_extension": ".py",
   "mimetype": "text/x-python",
   "name": "python",
   "nbconvert_exporter": "python",
   "pygments_lexer": "ipython3",
   "version": "3.6.0"
  }
 },
 "nbformat": 4,
 "nbformat_minor": 2
}
