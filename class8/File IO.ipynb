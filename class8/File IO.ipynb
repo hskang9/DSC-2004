{
 "cells": [
  {
   "cell_type": "code",
   "execution_count": 5,
   "metadata": {
    "collapsed": true
   },
   "outputs": [],
   "source": [
    "import random\n",
    "x=[]\n",
    "score_file=open(\"score.txt\",\"w\")\n",
    "for i in range(100):\n",
    "    y=[]\n",
    "    y.append(random.randrange(20181011111,20181559999))\n",
    "    x.append(list(set(y)))\n",
    "for s in x:\n",
    "    total=0\n",
    "    while True:\n",
    "        s.append(round(0.5*random.randrange(0,10),2))\n",
    "        t=random.randrange(1,4)\n",
    "        s.append(t)\n",
    "        total=total+t\n",
    "        if total > 18:\n",
    "            break\n",
    "    mystr=' '.join(str(e) for e in s)\n",
    "    score_file.write(mystr+'\\n')\n",
    "    \n",
    "score_file.close()"
   ]
  },
  {
   "cell_type": "code",
   "execution_count": 8,
   "metadata": {
    "collapsed": false
   },
   "outputs": [],
   "source": [
    "import statistics\n",
    "f = open(\"score.txt\", \"r\")\n",
    "g = open(\"grade.txt\", \"w\")\n",
    "\n",
    "avg = 0\n",
    "count = 0\n",
    "\n",
    "while True:\n",
    "    count += 1\n",
    "    line = f.readline()\n",
    "    if not line: break\n",
    "    line = [float(i) for i in line.split(\" \")]\n",
    "    student_id = int(line[0])\n",
    "    scores = line[1:]\n",
    "    gpa = statistics.mean(scores)\n",
    "    avg += gpa\n",
    "    g.write(\"student {0} has GPA of {1}\\n\".format(str(student_id),str(gpa))) \n",
    "f.close()\n",
    "avg /= count\n",
    "g.write(\"Student Average: {0}\\n\".format(avg))\n",
    "g.close()"
   ]
  },
  {
   "cell_type": "code",
   "execution_count": 11,
   "metadata": {
    "collapsed": false
   },
   "outputs": [
    {
     "data": {
      "text/plain": [
       "'student 20181061611 has GPA of 2.0277777777777777\\nstudent 20181439463 has GPA of 2.3055555555555554\\nstudent 20181017229 has GPA of 2.2045454545454546\\nstudent 20181101887 has GPA of 1.925\\nstudent 20181440326 has GPA of 1.725\\nstudent 20181181863 has GPA of 2.0\\nstudent 20181473695 has GPA of 2.111111111111111\\nstudent 20181127270 has GPA of 2.1944444444444446\\nstudent 20181105239 has GPA of 1.9318181818181819\\nstudent 20181233202 has GPA of 2.3055555555555554\\nstudent 20181532078 has GPA of 2.3333333333333335\\nstudent 20181346056 has GPA of 2.0416666666666665\\nstudent 20181011578 has GPA of 2.25\\nstudent 20181148896 has GPA of 2.4375\\nstudent 20181530331 has GPA of 2.125\\nstudent 20181196461 has GPA of 2.2\\nstudent 20181489582 has GPA of 2.4444444444444446\\nstudent 20181054488 has GPA of 2.1136363636363638\\nstudent 20181404935 has GPA of 2.09375\\nstudent 20181469074 has GPA of 2.361111111111111\\nstudent 20181256221 has GPA of 2.4166666666666665\\nstudent 20181206920 has GPA of 1.5681818181818181\\nstudent 20181225077 has GPA of 1.9090909090909092\\nstudent 20181515265 has GPA of 2.090909090909091\\nstudent 20181425419 has GPA of 2.2045454545454546\\nstudent 20181226032 has GPA of 2.5277777777777777\\nstudent 20181233198 has GPA of 2.3125\\nstudent 20181021674 has GPA of 2.05\\nstudent 20181322120 has GPA of 2.05\\nstudent 20181550200 has GPA of 2.5625\\nstudent 20181371542 has GPA of 2.3636363636363638\\nstudent 20181552272 has GPA of 2.53125\\nstudent 20181211116 has GPA of 2.3333333333333335\\nstudent 20181518395 has GPA of 2.4\\nstudent 20181021393 has GPA of 2.3333333333333335\\nstudent 20181158295 has GPA of 2.0454545454545454\\nstudent 20181392547 has GPA of 2.611111111111111\\nstudent 20181175032 has GPA of 1.95\\nstudent 20181148580 has GPA of 1.9318181818181819\\nstudent 20181461444 has GPA of 2.125\\nstudent 20181334299 has GPA of 2.3055555555555554\\nstudent 20181395773 has GPA of 2.7142857142857144\\nstudent 20181142816 has GPA of 2.272727272727273\\nstudent 20181220788 has GPA of 2.4722222222222223\\nstudent 20181465893 has GPA of 2.361111111111111\\nstudent 20181119852 has GPA of 1.675\\nstudent 20181187623 has GPA of 2.0833333333333335\\nstudent 20181200706 has GPA of 1.975\\nstudent 20181076005 has GPA of 2.1363636363636362\\nstudent 20181552541 has GPA of 2.0277777777777777\\nstudent 20181515751 has GPA of 2.35\\nstudent 20181344531 has GPA of 1.9444444444444444\\nstudent 20181046148 has GPA of 2.53125\\nstudent 20181457107 has GPA of 2.388888888888889\\nstudent 20181201090 has GPA of 2.25\\nstudent 20181266784 has GPA of 2.388888888888889\\nstudent 20181120408 has GPA of 2.125\\nstudent 20181418329 has GPA of 2.35\\nstudent 20181424107 has GPA of 1.8\\nstudent 20181430264 has GPA of 1.95\\nstudent 20181474516 has GPA of 2.15\\nstudent 20181246068 has GPA of 2.1818181818181817\\nstudent 20181520856 has GPA of 2.0961538461538463\\nstudent 20181469421 has GPA of 2.35\\nstudent 20181156674 has GPA of 2.361111111111111\\nstudent 20181326240 has GPA of 2.2777777777777777\\nstudent 20181169621 has GPA of 2.1\\nstudent 20181418959 has GPA of 2.0454545454545454\\nstudent 20181412067 has GPA of 2.361111111111111\\nstudent 20181154969 has GPA of 1.975\\nstudent 20181323088 has GPA of 2.25\\nstudent 20181295466 has GPA of 1.3846153846153846\\nstudent 20181551532 has GPA of 2.0555555555555554\\nstudent 20181199395 has GPA of 2.375\\nstudent 20181501003 has GPA of 1.6875\\nstudent 20181215058 has GPA of 2.111111111111111\\nstudent 20181356657 has GPA of 1.9722222222222223\\nstudent 20181057576 has GPA of 1.7115384615384615\\nstudent 20181049007 has GPA of 1.9772727272727273\\nstudent 20181234080 has GPA of 1.95\\nstudent 20181030872 has GPA of 2.3863636363636362\\nstudent 20181067539 has GPA of 2.1666666666666665\\nstudent 20181132731 has GPA of 2.28125\\nstudent 20181307840 has GPA of 2.15625\\nstudent 20181553429 has GPA of 2.1363636363636362\\nstudent 20181081869 has GPA of 2.0\\nstudent 20181309099 has GPA of 1.8863636363636365\\nstudent 20181319301 has GPA of 2.15\\nstudent 20181353009 has GPA of 2.0625\\nstudent 20181114453 has GPA of 1.825\\nstudent 20181211801 has GPA of 2.46875\\nstudent 20181388730 has GPA of 1.9090909090909092\\nstudent 20181060694 has GPA of 1.8636363636363635\\nstudent 20181328139 has GPA of 2.3125\\nstudent 20181148095 has GPA of 1.7272727272727273\\nstudent 20181132583 has GPA of 2.1944444444444446\\nstudent 20181190657 has GPA of 2.361111111111111\\nstudent 20181097112 has GPA of 2.325\\nstudent 20181478718 has GPA of 2.1818181818181817\\nstudent 20181031076 has GPA of 2.175\\nStudent Average: 2.13359238396367\\n'"
      ]
     },
     "execution_count": 11,
     "metadata": {},
     "output_type": "execute_result"
    }
   ],
   "source": [
    "g = open(\"grade.txt\", \"r\")\n",
    "g.read()"
   ]
  },
  {
   "cell_type": "code",
   "execution_count": null,
   "metadata": {
    "collapsed": true
   },
   "outputs": [],
   "source": []
  }
 ],
 "metadata": {},
 "nbformat": 4,
 "nbformat_minor": 2
}
