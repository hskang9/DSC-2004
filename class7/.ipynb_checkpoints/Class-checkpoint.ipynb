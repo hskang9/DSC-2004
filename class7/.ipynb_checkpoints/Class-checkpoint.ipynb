{
 "cells": [
  {
   "cell_type": "markdown",
   "metadata": {},
   "source": [
    "# 7.1\n",
    "Write a Python program to calculate +  -  *  /  //  % **\n",
    "\n"
   ]
  },
  {
   "cell_type": "code",
   "execution_count": 1,
   "metadata": {
    "collapsed": false
   },
   "outputs": [
    {
     "name": "stdout",
     "output_type": "stream",
     "text": [
      "Please enter the first number: 1\n",
      "Please enter the second number: 4\n",
      "addition\n",
      "5\n",
      "subtraction\n",
      "-3\n",
      "multiplication\n",
      "4\n",
      "division\n",
      "0.25\n",
      "power: 2\n",
      "1\n",
      "modulo: 3\n",
      "1\n",
      "no modulo: 3\n",
      "0\n"
     ]
    }
   ],
   "source": [
    "class Calculator:\n",
    "    def __init__(self, first_number, second_number):\n",
    "        self.first_number = first_number\n",
    "        self.second_number = second_number\n",
    "\n",
    "    def add(self):\n",
    "        return self.first_number + self.second_number\n",
    "\n",
    "    def subtract(self):\n",
    "        return self.first_number - self.second_number\n",
    "\n",
    "    def multiply(self):\n",
    "        return self.first_number * self.second_number\n",
    "\n",
    "    def divide(self):\n",
    "        return self.first_number / self.second_number\n",
    "    \n",
    "    def powerOf(self, power):\n",
    "        return self.first_number ** power\n",
    "\n",
    "    def modulo(self, div):\n",
    "        return self.first_number % div\n",
    "\n",
    "    def noModulo(self, div):\n",
    "        return self.first_number // div\n",
    "\n",
    "\n",
    "\n",
    "first_number = int(input('Please enter the first number: '))\n",
    "second_number = int(input('Please enter the second number: '))\n",
    "\n",
    "calc = Calculator(first_number, second_number)\n",
    "print(\"addition\")\n",
    "print(calc.add())\n",
    "print(\"subtraction\")\n",
    "print(calc.subtract())\n",
    "print(\"multiplication\")\n",
    "print(calc.multiply())\n",
    "print(\"division\")\n",
    "print(calc.divide())\n",
    "print(\"power: 2\")\n",
    "print(calc.powerOf(2))\n",
    "print(\"modulo: 3\")\n",
    "print(calc.modulo(3))\n",
    "print(\"no modulo: 3\")\n",
    "print(calc.noModulo(3))"
   ]
  },
  {
   "cell_type": "markdown",
   "metadata": {},
   "source": [
    "# 7.2\n",
    "Write a Python program to handle student enrollment.\n",
    "  Create a class list\n",
    "  Add a student\n",
    "  Update, delete, and etc."
   ]
  },
  {
   "cell_type": "code",
   "execution_count": 4,
   "metadata": {
    "collapsed": false
   },
   "outputs": [
    {
     "name": "stdout",
     "output_type": "stream",
     "text": [
      "Adding students:\n",
      "Student ID: pegr\n",
      "Name: Peter Griffin\n",
      "Age: 40\n",
      "\n",
      "Student ID: stgr\n",
      "Name: Stuart Griffin\n",
      "Age: 2\n",
      "\n",
      "Student ID: megr\n",
      "Name: Meg Griffin\n",
      "Age: 14\n",
      "\n",
      "40\n"
     ]
    }
   ],
   "source": [
    "\n",
    "class Student:\n",
    "    \"\"\"This is a student class\"\"\"\n",
    "\n",
    "    def __init__(self, id, name, age):\n",
    "        self.id = id\n",
    "        self.name = name\n",
    "        self.age = age\n",
    "\n",
    "    def print_student_info(self):\n",
    "        print(\"Student ID: {0}\\nName: {1}\\nAge: {2}\\n\".format(self.id, self.name, self.age))\n",
    "\n",
    "\n",
    "class student_store(list):\n",
    "    \"\"\" This is student database class \"\"\"\n",
    "\n",
    "    def add(self, student):\n",
    "        if len(self) == 0:\n",
    "            self.append(student)\n",
    "        else:     \n",
    "            for i in self:\n",
    "                if student.id == i.id:\n",
    "                    print(\"Student with id:{0} already exists!\".format(student.id))\n",
    "                    return 1\n",
    "            self.append(student)\n",
    "            return 0        \n",
    "    def update(self, id):\n",
    "        for i in self:\n",
    "                if id == i.id:\n",
    "                        name = input(\"Update new name: \")\n",
    "                        age = int(input(\"Update age: \"))\n",
    "                        i.name = name\n",
    "                        i.age = age\n",
    "                        return i\n",
    "        print(\"invalid input\")\n",
    "\n",
    "    def delete(self, id):\n",
    "        for i in self:\n",
    "                if id == i.id:\n",
    "                    del(i)\n",
    "                    return\n",
    "        print(\"There is no student with the id of {id}\")\n",
    "\n",
    "    def get_student_information(self, id):\n",
    "        for i in self:\n",
    "                if id == i.id:\n",
    "                    del(i)\n",
    "                    return\n",
    "        print(\"There is no student with the id of {id}\")\n",
    "\n",
    "    def print_student_list(self):\n",
    "        if len(self) > 0:\n",
    "            for student in self:\n",
    "                student.print_student_info()\n",
    "        else:\n",
    "            print(\"Student list is empty\")\n",
    "\n",
    "s1 = Student(\"pegr\", \"Peter Griffin\", 40)\n",
    "s2 = Student(\"stgr\", \"Stuart Griffin\", 2)\n",
    "s3 = Student(\"megr\", \"Meg Griffin\", 14)\n",
    "\n",
    "student_enrollment = student_store()\n",
    "print(\"Adding students:\")\n",
    "student_enrollment.add(s1)\n",
    "student_enrollment.add(s2)\n",
    "student_enrollment.add(s3)\n",
    "student_enrollment.print_student_list()\n",
    "\n",
    "s3.age = 16\n",
    "\n",
    "print(s1.age)"
   ]
  },
  {
   "cell_type": "code",
   "execution_count": null,
   "metadata": {
    "collapsed": true
   },
   "outputs": [],
   "source": []
  }
 ],
 "metadata": {
  "kernelspec": {
   "display_name": "Python 3",
   "language": "python",
   "name": "python3"
  },
  "language_info": {
   "codemirror_mode": {
    "name": "ipython",
    "version": 3
   },
   "file_extension": ".py",
   "mimetype": "text/x-python",
   "name": "python",
   "nbconvert_exporter": "python",
   "pygments_lexer": "ipython3",
   "version": "3.6.0"
  }
 },
 "nbformat": 4,
 "nbformat_minor": 2
}
