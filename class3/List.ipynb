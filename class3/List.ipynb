{
 "cells": [
  {
   "cell_type": "markdown",
   "metadata": {},
   "source": [
    "# 3.0: Demonstrate list functions"
   ]
  },
  {
   "cell_type": "code",
   "execution_count": 1,
   "metadata": {
    "collapsed": false
   },
   "outputs": [
    {
     "name": "stdout",
     "output_type": "stream",
     "text": [
      "[1, 1, 2, 3, 4]\n",
      "None\n",
      "[1, 2, 3, 4, 15, 54]\n",
      "None\n",
      "[54, 15, 4, 3, 2, 1]\n",
      "0\n",
      "None\n",
      "[54, 15, 4, 3, 42, 2, 1]\n",
      "1\n",
      "None\n",
      "[54, 15, 4, 3, 42, 2]\n",
      "4\n",
      "[54, 15, 3, 42, 2]\n",
      "None\n",
      "[]\n"
     ]
    }
   ],
   "source": [
    "a = []\n",
    "\n",
    "# append: add element to list\n",
    "a.append(1)\n",
    "# >>> [1]\n",
    "\n",
    "# extend: add another list to the end of a list\n",
    "a.extend([1,2,3,4])\n",
    "# >>> [1,1,2,3,4]\n",
    "\n",
    "# copy: return a copied list from given list\n",
    "b = a.copy()\n",
    "print(b)\n",
    "\n",
    "# >>> [1,1,2,3,4]\n",
    "\n",
    "# sort: sort elements in a list in increment order by default\n",
    "c = [15,3,4,2,54,1]\n",
    "print(c.sort())\n",
    "# >>> None\n",
    "print(c)\n",
    "# >>> [1,2,3,4,15,54]\n",
    "\n",
    "# reverse: reverse the order of elements in a list\n",
    "print(c.reverse())\n",
    "# >>> None\n",
    "print(c)\n",
    "# >>> [54,15,4,3,2,1]\n",
    "\n",
    "# index: find the index of an element in a list\n",
    "print(c.index(54))\n",
    "# >>> 0\n",
    "\n",
    "# insert: insert element in the given index of a list\n",
    "# Usage: c.insert(index, value)\n",
    "print(c.insert(4,42))\n",
    "# >>> None\n",
    "print(c)\n",
    "# >>> [54,15,4,3,42,2,1]\n",
    "\n",
    "# count: count the number of element in an array\n",
    "print(c.count(4))\n",
    "# >>> 1\n",
    "\n",
    "# remove: remove given element from a list\n",
    "print(c.remove(1))\n",
    "# >>> None \n",
    "print(c)\n",
    "# >>> [54,15,4,3,2]\n",
    "\n",
    "# pop: return element from index given as an argument and remove it from the list where it is from\n",
    "print(c.pop(2))\n",
    "# >>> 4\n",
    "print(c)\n",
    "# >>> [54,15,3,2]\n",
    "\n",
    "# clear: clear all elements in a list\n",
    "print(c.clear())\n",
    "# >>> None\n",
    "print(c)\n",
    "# >>> []\n",
    "\n"
   ]
  },
  {
   "cell_type": "markdown",
   "metadata": {},
   "source": [
    "# 3.1: Get unique list in a list of list"
   ]
  },
  {
   "cell_type": "code",
   "execution_count": 4,
   "metadata": {
    "collapsed": false
   },
   "outputs": [
    {
     "data": {
      "text/plain": [
       "[[10, 20], [40], [30, 56, 25], [33]]"
      ]
     },
     "execution_count": 4,
     "metadata": {},
     "output_type": "execute_result"
    }
   ],
   "source": [
    "sample_list = [ [10, 20], [40], [30, 56, 25], [10, 20], [33], [40] ]\n",
    "def removeDuplicate(sample):\n",
    "    from functools import reduce\n",
    "    return reduce(lambda l,x: l.append(x) or l if x not in l else l, sample, [])\n",
    "\n",
    "removeDuplicate(sample_list)\n"
   ]
  },
  {
   "cell_type": "markdown",
   "metadata": {
    "collapsed": false
   },
   "source": [
    "# 3.2: Get list of the highest sum in a list of list"
   ]
  },
  {
   "cell_type": "code",
   "execution_count": 2,
   "metadata": {
    "collapsed": false
   },
   "outputs": [
    {
     "data": {
      "text/plain": [
       "[10, 11, 12]"
      ]
     },
     "execution_count": 2,
     "metadata": {},
     "output_type": "execute_result"
    }
   ],
   "source": [
    "sample_list =[ [1,2,3], [4,5,6], [10,11,12], [7,8,9] ]\n",
    "def highestSum(sample):\n",
    "    sum_list = list(map(lambda x: sum(x), sample))\n",
    "    hst_sum_index = sum_list.index(max(sum_list))\n",
    "    return sample_list[hst_sum_index]\n",
    "\n",
    "highestSum(sample_list)"
   ]
  },
  {
   "cell_type": "code",
   "execution_count": null,
   "metadata": {
    "collapsed": true
   },
   "outputs": [],
   "source": []
  }
 ],
 "metadata": {
  "kernelspec": {
   "display_name": "Python 3",
   "language": "python",
   "name": "python3"
  },
  "language_info": {
   "codemirror_mode": {
    "name": "ipython",
    "version": 3
   },
   "file_extension": ".py",
   "mimetype": "text/x-python",
   "name": "python",
   "nbconvert_exporter": "python",
   "pygments_lexer": "ipython3",
   "version": "3.6.0"
  }
 },
 "nbformat": 4,
 "nbformat_minor": 2
}
