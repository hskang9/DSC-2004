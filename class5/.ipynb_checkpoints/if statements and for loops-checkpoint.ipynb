{
 "cells": [
  {
   "cell_type": "markdown",
   "metadata": {},
   "source": [
    "# if01: Guess numbers"
   ]
  },
  {
   "cell_type": "code",
   "execution_count": 2,
   "metadata": {
    "collapsed": false
   },
   "outputs": [
    {
     "name": "stdout",
     "output_type": "stream",
     "text": [
      "your guess?: 3\n",
      "wrong\n",
      "The answer is  21\n"
     ]
    }
   ],
   "source": [
    "import random\n",
    "\n",
    "num=random.randint(0,100)\n",
    "user_in = int(input(\"your guess?: \"))\n",
    "if num == user_in:\n",
    "    print(\"Correct\")\n",
    "else:\n",
    "    print(\"wrong\")\n",
    "    print(\"The answer is \" , num)"
   ]
  },
  {
   "cell_type": "markdown",
   "metadata": {},
   "source": [
    "# if02: dat typical grade calculator"
   ]
  },
  {
   "cell_type": "code",
   "execution_count": 4,
   "metadata": {
    "collapsed": false
   },
   "outputs": [
    {
     "name": "stdout",
     "output_type": "stream",
     "text": [
      "Enter Score:60\n",
      "D\n"
     ]
    }
   ],
   "source": [
    "score = int(input(\"Enter Score:\"))\n",
    "if score > 100:\n",
    "    print(\"wrong score\")\n",
    "elif score >= 90:\n",
    "    print(\"A\")\n",
    "elif score >= 80:\n",
    "    print(\"B\")\n",
    "elif score >= 70:\n",
    "    print(\"C\")\n",
    "elif score >= 60:\n",
    "    print(\"D\")\n",
    "else:\n",
    "    print(\"F\")"
   ]
  },
  {
   "cell_type": "markdown",
   "metadata": {},
   "source": [
    "# for: stacking numbers"
   ]
  },
  {
   "cell_type": "code",
   "execution_count": 8,
   "metadata": {
    "collapsed": false
   },
   "outputs": [
    {
     "name": "stdout",
     "output_type": "stream",
     "text": [
      "iteration count: 10\n",
      " \n",
      "\n",
      "1 \n",
      "\n",
      "2 3 \n",
      "\n",
      "4 5 6 \n",
      "\n",
      "7 8 9 10 \n",
      "\n",
      "11 12 13 14 15 \n",
      "\n",
      "16 17 18 19 20 21 \n",
      "\n",
      "22 23 24 25 26 27 28 \n",
      "\n",
      "29 30 31 32 33 34 35 36 \n",
      "\n",
      "37 38 39 40 41 42 43 44 45 \n",
      "\n",
      "46 47 48 49 50 51 52 53 54 55 \n",
      "\n"
     ]
    }
   ],
   "source": [
    "count = int(input(\"iteration count: \"))\n",
    "num=1\n",
    "arr = []\n",
    "for i in range(count+1):\n",
    "    arr = []\n",
    "    for j in range(i):\n",
    "        arr.append(str(num))\n",
    "        num += 1\n",
    "    print(\" \".join(arr), \"\\n\")\n"
   ]
  },
  {
   "cell_type": "markdown",
   "metadata": {},
   "source": [
    "# Extra for: draw tile of cats!"
   ]
  },
  {
   "cell_type": "code",
   "execution_count": 13,
   "metadata": {
    "collapsed": false
   },
   "outputs": [
    {
     "name": "stdout",
     "output_type": "stream",
     "text": [
      "0 0\n",
      "0 215\n",
      "0 430\n",
      "0 645\n",
      "0 860\n",
      "0 1075\n",
      "230 0\n",
      "230 215\n",
      "230 430\n",
      "230 645\n",
      "230 860\n",
      "230 1075\n",
      "460 0\n",
      "460 215\n",
      "460 430\n",
      "460 645\n",
      "460 860\n",
      "460 1075\n",
      "690 0\n",
      "690 215\n",
      "690 430\n",
      "690 645\n",
      "690 860\n",
      "690 1075\n"
     ]
    }
   ],
   "source": [
    "\n",
    "from PIL import Image\n",
    "\n",
    "catIm = Image.open('zophie.png')\n",
    "catCopyIm = catIm.copy()\n",
    "faceIm = catIm.crop((335, 345, 565, 560))\n",
    "catImWidth, catImHeight = catIm.size\n",
    "faceImWidth, faceImHeight = faceIm.size\n",
    "catCopyTwo = catIm.copy()\n",
    "for left in range(0, catImWidth, faceImWidth):\n",
    "     for top in range(0, catImHeight, faceImHeight):\n",
    "         print(left, top)\n",
    "         catCopyTwo.paste(faceIm, (left, top))\n",
    "catCopyTwo.save('tiled.png')\n",
    "catCopyTwo.show()"
   ]
  },
  {
   "cell_type": "code",
   "execution_count": null,
   "metadata": {
    "collapsed": true
   },
   "outputs": [],
   "source": []
  }
 ],
 "metadata": {
  "kernelspec": {
   "display_name": "Python 3",
   "language": "python",
   "name": "python3"
  },
  "language_info": {
   "codemirror_mode": {
    "name": "ipython",
    "version": 3
   },
   "file_extension": ".py",
   "mimetype": "text/x-python",
   "name": "python",
   "nbconvert_exporter": "python",
   "pygments_lexer": "ipython3",
   "version": "3.6.0"
  }
 },
 "nbformat": 4,
 "nbformat_minor": 2
}
