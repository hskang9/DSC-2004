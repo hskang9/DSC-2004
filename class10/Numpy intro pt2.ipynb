{
 "cells": [
  {
   "cell_type": "code",
   "execution_count": 1,
   "metadata": {
    "collapsed": false
   },
   "outputs": [
    {
     "name": "stdout",
     "output_type": "stream",
     "text": [
      "[[0 1 2 3 4]\n",
      " [5 6 7 8 9]]\n",
      "[[5 6 7 8 9]\n",
      " [0 1 2 3 4]]\n",
      "[[4 3 2 1 0]\n",
      " [9 8 7 6 5]]\n"
     ]
    }
   ],
   "source": [
    "import numpy as np\n",
    "\n",
    "# 1. Create a two dimensional array.\n",
    "\n",
    "matrix = np.arange(0,10).reshape(2,-1)\n",
    "\n",
    "print(matrix)\n",
    "\n",
    "# 2. Create another array from the created array,  in which the elements of each row are in reverse order.\n",
    "\n",
    "reverse_row = np.flipud(matrix)\n",
    "\n",
    "print(reverse_row)\n",
    "\n",
    "# 3. Create another array from the created array, where columns and rows are in reverse order.\n",
    "\n",
    "reverse_column = np.fliplr(matrix)\n",
    "\n",
    "print(reverse_column)"
   ]
  },
  {
   "cell_type": "code",
   "execution_count": null,
   "metadata": {
    "collapsed": true
   },
   "outputs": [],
   "source": []
  }
 ],
 "metadata": {
  "kernelspec": {
   "display_name": "Python 3",
   "language": "python",
   "name": "python3"
  },
  "language_info": {
   "codemirror_mode": {
    "name": "ipython",
    "version": 3
   },
   "file_extension": ".py",
   "mimetype": "text/x-python",
   "name": "python",
   "nbconvert_exporter": "python",
   "pygments_lexer": "ipython3",
   "version": "3.6.0"
  }
 },
 "nbformat": 4,
 "nbformat_minor": 2
}
