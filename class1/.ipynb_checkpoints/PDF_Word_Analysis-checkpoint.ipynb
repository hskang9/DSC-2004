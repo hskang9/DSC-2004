{
 "cells": [
  {
   "cell_type": "code",
   "execution_count": 5,
   "metadata": {
    "collapsed": false
   },
   "outputs": [
    {
     "name": "stdout",
     "output_type": "stream",
     "text": [
      "Requirement already satisfied: PyPDF2 in /usr/local/lib/python2.7/site-packages\n",
      "Collecting argparse\n",
      "  Downloading argparse-1.4.0-py2.py3-none-any.whl\n",
      "Installing collected packages: argparse\n",
      "Successfully installed argparse-1.4.0\n"
     ]
    }
   ],
   "source": [
    "!pip install PyPDF2\n",
    "!pip install argparse\n"
   ]
  },
  {
   "cell_type": "code",
   "execution_count": 6,
   "metadata": {
    "collapsed": false
   },
   "outputs": [
    {
     "ename": "ModuleNotFoundError",
     "evalue": "No module named 'PyPDF2'",
     "output_type": "error",
     "traceback": [
      "\u001b[0;31m---------------------------------------------------------------------------\u001b[0m",
      "\u001b[0;31mModuleNotFoundError\u001b[0m                       Traceback (most recent call last)",
      "\u001b[0;32m<ipython-input-6-59ca19efecb0>\u001b[0m in \u001b[0;36m<module>\u001b[0;34m()\u001b[0m\n\u001b[0;32m----> 1\u001b[0;31m \u001b[0;32mimport\u001b[0m \u001b[0mPyPDF2\u001b[0m\u001b[0;34m\u001b[0m\u001b[0m\n\u001b[0m\u001b[1;32m      2\u001b[0m \u001b[0;32mimport\u001b[0m \u001b[0mmatplotlib\u001b[0m\u001b[0;34m.\u001b[0m\u001b[0mpyplot\u001b[0m \u001b[0;32mas\u001b[0m \u001b[0mplt\u001b[0m\u001b[0;34m\u001b[0m\u001b[0m\n\u001b[1;32m      3\u001b[0m \u001b[0;32mimport\u001b[0m \u001b[0margparse\u001b[0m\u001b[0;34m\u001b[0m\u001b[0m\n\u001b[1;32m      4\u001b[0m \u001b[0;34m\u001b[0m\u001b[0m\n\u001b[1;32m      5\u001b[0m \u001b[0mparser\u001b[0m \u001b[0;34m=\u001b[0m \u001b[0margparse\u001b[0m\u001b[0;34m.\u001b[0m\u001b[0mArgumentParser\u001b[0m\u001b[0;34m(\u001b[0m\u001b[0;34m)\u001b[0m\u001b[0;34m\u001b[0m\u001b[0m\n",
      "\u001b[0;31mModuleNotFoundError\u001b[0m: No module named 'PyPDF2'"
     ]
    }
   ],
   "source": [
    "import PyPDF2\n",
    "import matplotlib.pyplot as plt\n",
    "import argparse\n",
    "\n",
    "parser = argparse.ArgumentParser()\n",
    "parser.add_argument('-in','--input', required=True, help='PDF file for analysis')\n",
    "\n",
    "opt = parser.parse_args() # Parsed arguments\n",
    "\n",
    "pdf = PyPDF2.PdfFileReader(opt.input,'rb')\n",
    "if pdf.isEncrypted:\n",
    "\ttry:\n",
    "\t\tpassword = input(\"PDF file requires password.\\n Type password: \")\n",
    "\t\tpdf.decrypt(password)\n",
    "\texcept PyPDF2.utils.PdfReadError:\n",
    "\t\tprint(\"Invalid Password\")\n",
    "\n",
    "pages = pdf.numPages\n",
    "\n",
    "D = {} # Dictionary for words in PDF file\n",
    "\n",
    "def getWords(pageNum):\n",
    "\tpage = pdf.getPage(pageNum)\n",
    "\tpage = page.extractText()\n",
    "\tpage = page.split(' ')\n",
    "\n",
    "\tfor word in page:\n",
    "\t\tif word not in D.keys():\n",
    "\t\t\tD[word] = 1\n",
    "\t\telse:\n",
    "\t\t\tD[word] = D.get(word, 0) + 1\n",
    "\n",
    "\n",
    "def split_word(s):\n",
    "\tn=6\n",
    "\treturn '-\\n'.join(s[i:i+n] for i in range(0, len(s), n))\n",
    "\n",
    "for i in range(pages):\n",
    "\tgetWords(i)\n",
    " \n",
    "del D[''] # remove blank measure\n",
    "print(D) # Dictionary for collected words\n",
    "\n",
    "# ==== Data analysis ====\n",
    "\"\"\"\n",
    "\tShow five most frequent words of the dictionary\n",
    "\"\"\"\n",
    "top5 = sorted(D, key=D.get, reverse=True)[:5]\n",
    "top5_values = [D[i] for i in top5]\n",
    "plt.bar(range(len(top5)), top5_values, align='center')\n",
    "plt.xticks(range(len(top5)), [split_word(i) for i in top5])\n",
    "\n",
    "plt.show()\t"
   ]
  },
  {
   "cell_type": "code",
   "execution_count": null,
   "metadata": {
    "collapsed": true
   },
   "outputs": [],
   "source": []
  }
 ],
 "metadata": {
  "kernelspec": {
   "display_name": "Python 3",
   "language": "python",
   "name": "python3"
  },
  "language_info": {
   "codemirror_mode": {
    "name": "ipython",
    "version": 3
   },
   "file_extension": ".py",
   "mimetype": "text/x-python",
   "name": "python",
   "nbconvert_exporter": "python",
   "pygments_lexer": "ipython3",
   "version": "3.6.0"
  }
 },
 "nbformat": 4,
 "nbformat_minor": 2
}
