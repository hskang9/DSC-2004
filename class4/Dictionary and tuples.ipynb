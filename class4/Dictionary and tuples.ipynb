{
 "cells": [
  {
   "cell_type": "markdown",
   "metadata": {},
   "source": [
    "# 4.1: Create class which manages inventory dictionary"
   ]
  },
  {
   "cell_type": "code",
   "execution_count": 1,
   "metadata": {
    "collapsed": true
   },
   "outputs": [],
   "source": [
    "class inventory(object):\n",
    "    \"\"\"\n",
    "        This class defines inventory \n",
    "\n",
    "    \"\"\"\n",
    "    def __init__(self):\n",
    "            self.__inven = {} # __ is a synthetic sugar for private variable in python class\n",
    "            self.item = self.__inven.keys()\n",
    "            self.quantities = self.__inven.values()\n",
    "    def getQuantity(self, item):\n",
    "            return self.__inven[str(item)]\n",
    "    def listItems(self):\n",
    "            return self.item\n",
    "    def getMaxQuantity(self):\n",
    "            return max(self.quantities)\n",
    "    def getMinQuantity(self):\n",
    "            return min(self.quantities)\n",
    "    def sort(self):\n",
    "            return sorted(self.__inven)\n",
    "    def update(self):\n",
    "            item, cnt = input(\"enter item name and quantity: \").split()\n",
    "            self.__inven.update({item:int(cnt)})\n",
    "            return self.__inven\n",
    "    def changeQuantity(self, item):\n",
    "        try:\n",
    "            before = self.__inven[item]\n",
    "        except KeyError:\n",
    "            print(\"No item found in the inventory\")\n",
    "            return\n",
    "        after = int(input(\"enter new quantity: \"))\n",
    "        self.__inven[item] = after\n",
    "        return \"Updated item: {0} {1} -> {2}\".format(item, before, after)\n",
    "\n"
   ]
  },
  {
   "cell_type": "markdown",
   "metadata": {},
   "source": [
    "# 4.2: Sort even number"
   ]
  },
  {
   "cell_type": "code",
   "execution_count": 3,
   "metadata": {
    "collapsed": false
   },
   "outputs": [
    {
     "data": {
      "text/plain": [
       "[22, 32, 38, 38, 48, 58, 60, 62, 64, 68, 70, 76, 76, 80, 84, 84, 92]"
      ]
     },
     "execution_count": 3,
     "metadata": {},
     "output_type": "execute_result"
    }
   ],
   "source": [
    "\n",
    "def getEvenNumber():\n",
    "        my_t = ()\n",
    "        import random\n",
    "        for i in range(1,31):\n",
    "            val = random.randrange(1,100)\n",
    "            my_t += (val,)\n",
    "        return sorted(tuple(filter(lambda x: x % 2 == 0, my_t)))\n",
    "\n",
    "getEvenNumber()"
   ]
  },
  {
   "cell_type": "code",
   "execution_count": null,
   "metadata": {
    "collapsed": true
   },
   "outputs": [],
   "source": []
  }
 ],
 "metadata": {
  "kernelspec": {
   "display_name": "Python 3",
   "language": "python",
   "name": "python3"
  },
  "language_info": {
   "codemirror_mode": {
    "name": "ipython",
    "version": 3
   },
   "file_extension": ".py",
   "mimetype": "text/x-python",
   "name": "python",
   "nbconvert_exporter": "python",
   "pygments_lexer": "ipython3",
   "version": "3.6.0"
  }
 },
 "nbformat": 4,
 "nbformat_minor": 2
}
