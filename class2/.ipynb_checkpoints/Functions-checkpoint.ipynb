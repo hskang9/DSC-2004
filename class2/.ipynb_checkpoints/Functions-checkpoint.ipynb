{
 "cells": [
  {
   "cell_type": "code",
   "execution_count": null,
   "metadata": {
    "collapsed": false
   },
   "outputs": [],
   "source": [
    "import random\n",
    "from functools import reduce"
   ]
  },
  {
   "cell_type": "markdown",
   "metadata": {},
   "source": [
    " # 1. Compute area of this.\n",
    " ![area](area.png)"
   ]
  },
  {
   "cell_type": "code",
   "execution_count": null,
   "metadata": {
    "collapsed": true
   },
   "outputs": [],
   "source": [
    "def computeArea(x):\n",
    "    x = (x**2 - x**2/8)\n",
    "    return x"
   ]
  },
  {
   "cell_type": "markdown",
   "metadata": {},
   "source": [
    "# 2. Get Fibonacci at given number."
   ]
  },
  {
   "cell_type": "code",
   "execution_count": null,
   "metadata": {
    "collapsed": true
   },
   "outputs": [],
   "source": [
    "def Fib():\n",
    "    x = int(input(\"number of iteration of fibonacci: \"))\n",
    "    a = [1,1]\n",
    "    if x==0:\n",
    "        return a[0]\n",
    "    elif x==1:\n",
    "        return a[1]\n",
    "    else:\n",
    "        for i in range(2,x):\n",
    "            a.append(a[i-1]+a[i-2])\n",
    "        return a"
   ]
  },
  {
   "cell_type": "markdown",
   "metadata": {},
   "source": [
    "# 3. Generate list of unique random numbers."
   ]
  },
  {
   "cell_type": "code",
   "execution_count": null,
   "metadata": {
    "collapsed": true
   },
   "outputs": [],
   "source": [
    "def uniqueRandom():\n",
    "    def_random = []\n",
    "    for i in range(1,301):\n",
    "        def_random.append(random.randrange(1,100))\n",
    "    uniq_random = reduce(lambda l, x: l.append(x) or l # alternate return value \n",
    "     if x not in l else l, def_random, [])\n",
    "\n",
    "    return uniq_random"
   ]
  },
  {
   "cell_type": "markdown",
   "metadata": {},
   "source": [
    "# Result"
   ]
  },
  {
   "cell_type": "code",
   "execution_count": null,
   "metadata": {
    "collapsed": false
   },
   "outputs": [],
   "source": [
    "in_x = int(input(\"calculate area of x: \"))\n",
    "print(computeArea(in_x))\n",
    "print(Fib())\n",
    "\n",
    "print(\"Unique Random: \")\n",
    "print(uniqueRandom())"
   ]
  },
  {
   "cell_type": "code",
   "execution_count": null,
   "metadata": {
    "collapsed": true
   },
   "outputs": [],
   "source": []
  }
 ],
 "metadata": {
  "kernelspec": {
   "display_name": "Python 3",
   "language": "python",
   "name": "python3"
  },
  "language_info": {
   "codemirror_mode": {
    "name": "ipython",
    "version": 3
   },
   "file_extension": ".py",
   "mimetype": "text/x-python",
   "name": "python",
   "nbconvert_exporter": "python",
   "pygments_lexer": "ipython3",
   "version": "3.6.0"
  }
 },
 "nbformat": 4,
 "nbformat_minor": 2
}
